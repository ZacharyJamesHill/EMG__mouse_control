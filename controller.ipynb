{
 "cells": [
  {
   "cell_type": "code",
   "execution_count": 1,
   "metadata": {
    "ExecuteTime": {
     "end_time": "2020-03-10T15:18:52.175974Z",
     "start_time": "2020-03-10T15:18:47.782491Z"
    }
   },
   "outputs": [],
   "source": [
    "import threading\n",
    "import serial\n",
    "import time\n",
    "import matplotlib.pyplot as plt \n",
    "import numpy as np\n",
    "import pyautogui\n",
    "from bitstring import BitArray\n",
    "from collections import deque\n",
    "import pickle\n",
    "from tensorflow.keras.models import Sequential\n",
    "from tensorflow.keras.layers import Dense, Dropout, Conv1D, GlobalMaxPool1D\n",
    "from tensorflow.keras.models import load_model\n",
    "from sklearn.ensemble import RandomForestRegressor\n",
    "\n",
    "\n",
    "import tensorflow as tf\n",
    "from tensorflow.compat.v1 import ConfigProto\n",
    "from tensorflow.compat.v1 import InteractiveSession"
   ]
  },
  {
   "cell_type": "code",
   "execution_count": 2,
   "metadata": {
    "ExecuteTime": {
     "end_time": "2020-03-10T15:18:52.191750Z",
     "start_time": "2020-03-10T15:18:52.175974Z"
    }
   },
   "outputs": [],
   "source": [
    "config = ConfigProto()\n",
    "config.gpu_options.allow_growth = True\n",
    "session = InteractiveSession(config=config)"
   ]
  },
  {
   "cell_type": "code",
   "execution_count": 3,
   "metadata": {
    "ExecuteTime": {
     "end_time": "2020-03-10T15:18:53.122371Z",
     "start_time": "2020-03-10T15:18:52.191750Z"
    }
   },
   "outputs": [
    {
     "name": "stdout",
     "output_type": "stream",
     "text": [
      "WARNING:tensorflow:From C:\\Users\\Zachary\\.conda\\envs\\dsi2\\lib\\site-packages\\tensorflow_core\\python\\ops\\resource_variable_ops.py:1781: calling BaseResourceVariable.__init__ (from tensorflow.python.ops.resource_variable_ops) with constraint is deprecated and will be removed in a future version.\n",
      "Instructions for updating:\n",
      "If using Keras pass *_constraint arguments to layers.\n"
     ]
    }
   ],
   "source": [
    "# loading neural net\n",
    "nn_pos = load_model('pickled_models/pos_nn/')\n",
    "nn_pos._make_predict_function()\n",
    "global graph\n",
    "graph = tf.get_default_graph()"
   ]
  },
  {
   "cell_type": "code",
   "execution_count": 4,
   "metadata": {
    "ExecuteTime": {
     "end_time": "2020-03-10T15:18:53.142076Z",
     "start_time": "2020-03-10T15:18:53.122371Z"
    }
   },
   "outputs": [],
   "source": [
    "# leading adaboost model\n",
    "with open('pickled_models/adaboost_x.pkl', 'rb') as f:\n",
    "    \n",
    "    ab_x = pickle.load(f,)\n",
    "\n",
    "with open('pickled_models/adaboost_y.pkl', 'rb') as f:\n",
    "    \n",
    "    ab_y = pickle.load(f)"
   ]
  },
  {
   "cell_type": "code",
   "execution_count": 5,
   "metadata": {
    "ExecuteTime": {
     "end_time": "2020-03-10T15:18:53.211106Z",
     "start_time": "2020-03-10T15:18:53.145073Z"
    }
   },
   "outputs": [],
   "source": [
    "# loading random forest model\n",
    "with open('pickled_models/rf_x.pkl', 'rb') as f:\n",
    "    \n",
    "    rf_x = pickle.load(f,)\n",
    "\n",
    "with open('pickled_models/rf_y.pkl', 'rb') as f:\n",
    "    \n",
    "    rf_y = pickle.load(f)"
   ]
  },
  {
   "cell_type": "code",
   "execution_count": 6,
   "metadata": {
    "ExecuteTime": {
     "end_time": "2020-03-10T15:18:53.218070Z",
     "start_time": "2020-03-10T15:18:53.213056Z"
    }
   },
   "outputs": [],
   "source": [
    "# loading linear regression model\n",
    "with open('pickled_models/linear_x.pkl', 'rb') as f:\n",
    "    \n",
    "    lr_x = pickle.load(f,)\n",
    "\n",
    "with open('pickled_models/linear_y.pkl', 'rb') as f:\n",
    "    \n",
    "    lr_y = pickle.load(f)"
   ]
  },
  {
   "cell_type": "code",
   "execution_count": 7,
   "metadata": {
    "ExecuteTime": {
     "end_time": "2020-03-10T15:18:53.245292Z",
     "start_time": "2020-03-10T15:18:53.220055Z"
    }
   },
   "outputs": [],
   "source": [
    "# loading decision tree model\n",
    "with open('pickled_models/dt_x.pkl', 'rb') as f:\n",
    "    \n",
    "    dt_x = pickle.load(f,)\n",
    "\n",
    "with open('pickled_models/dt_y.pkl', 'rb') as f:\n",
    "    \n",
    "    dt_y = pickle.load(f)"
   ]
  },
  {
   "cell_type": "code",
   "execution_count": 8,
   "metadata": {
    "ExecuteTime": {
     "end_time": "2020-03-10T15:18:53.257330Z",
     "start_time": "2020-03-10T15:18:53.249292Z"
    }
   },
   "outputs": [],
   "source": [
    "# setting up recording parameters and deques to record into\n",
    "\n",
    "num_channel = 4\n",
    "\n",
    "gain = 1\n",
    "\n",
    "muscle_data = deque(maxlen = 500*num_channel + 994)\n",
    "\n",
    "simple_muscle_data = deque(maxlen = 500*num_channel)\n",
    "\n",
    "to_predict = deque()\n",
    "\n",
    "current = deque()\n"
   ]
  },
  {
   "cell_type": "code",
   "execution_count": 10,
   "metadata": {
    "ExecuteTime": {
     "end_time": "2020-03-10T15:18:53.303334Z",
     "start_time": "2020-03-10T15:18:53.277293Z"
    }
   },
   "outputs": [],
   "source": [
    "# a function that recording muscle data mouse position and stores it in a complex deque\n",
    "def measure_muscle():\n",
    "    ser = serial.Serial('COM4', 230400)\n",
    "    global muscle_data\n",
    "    global to_predict\n",
    "#     global current\n",
    "    while run:\n",
    "        first = ser.read(1)\n",
    "        if int(BitArray(first).bin[0]):\n",
    "            temp = deque()\n",
    "            temp.append(int((BitArray(first).bin[1:] + BitArray(ser.read(1)).bin), 2))\n",
    "            temp.append(int((BitArray(ser.read(1)).bin + BitArray(ser.read(1)).bin), 2))\n",
    "            temp.append(int((BitArray(ser.read(1)).bin + BitArray(ser.read(1)).bin), 2))\n",
    "            temp.append(int((BitArray(ser.read(1)).bin + BitArray(ser.read(1)).bin), 2))\n",
    "            cur_pos = np.array(pyautogui.position())\n",
    "            temp.append(cur_pos[0])\n",
    "            temp.append(cur_pos[1])\n",
    "            temp.reverse()\n",
    "            muscle_data += temp\n",
    "            \n",
    "            current = deque()\n",
    "            current.append(int((BitArray(first).bin[1:] + BitArray(ser.read(1)).bin), 2))\n",
    "            current.append(int((BitArray(ser.read(1)).bin + BitArray(ser.read(1)).bin), 2))\n",
    "            current.append(int((BitArray(ser.read(1)).bin + BitArray(ser.read(1)).bin), 2))\n",
    "            current.append(int((BitArray(ser.read(1)).bin + BitArray(ser.read(1)).bin), 2))\n",
    "            \n",
    "            muscle_data.reverse()\n",
    "            to_predict = current + muscle_data\n",
    "            \n",
    "\n",
    "\n",
    "            \n",
    "# a simple function that stores onlt muscle data in a simple deque\n",
    "def simple_measure_muscle():\n",
    "    ser = serial.Serial('COM4', 230400)\n",
    "    while run:\n",
    "        first = ser.read(1)\n",
    "        if int(BitArray(first).bin[0]):\n",
    "            simple_muscle_data.append(int((BitArray(first).bin[1:] + BitArray(ser.read(1)).bin), 2))\n",
    "            simple_muscle_data.append(int((BitArray(ser.read(1)).bin + BitArray(ser.read(1)).bin), 2))\n",
    "            simple_muscle_data.append(int((BitArray(ser.read(1)).bin + BitArray(ser.read(1)).bin), 2))\n",
    "            simple_muscle_data.append(int((BitArray(ser.read(1)).bin + BitArray(ser.read(1)).bin), 2))\n",
    "\n",
    "\n",
    "\n",
    "# simpler model functions            \n",
    "def move_mouse_ab():\n",
    "    while run:\n",
    "        pyautogui.moveRel(xOffset=(ab_x.predict([simple_muscle_data]) * gain), yOffset=(ab_y.predict([simple_muscle_data]) * gain))\n",
    "        \n",
    "        \n",
    "def move_mouse_lr():\n",
    "    while run:\n",
    "        pyautogui.moveRel(xOffset=(lr_x.predict([muscle_data]) * gain), yOffset=(lr_y.predict([muscle_data]) * gain))\n",
    "\n",
    "def move_mouse_rf():\n",
    "    while run:\n",
    "#         print(rf_x.predict([simple_muscle_data]), rf_y.predict([simple_muscle_data]))\n",
    "    \n",
    "        pyautogui.moveRel(xOffset=(rf_x.predict([simple_muscle_data]) * gain), yOffset=(rf_y.predict([simple_muscle_data]) * gain))\n",
    "\n",
    "def move_mouse_dt():\n",
    "    while run:\n",
    "#         print(dt_x.predict([simple_muscle_data]), dt_y.predict([simple_muscle_data]))\n",
    "    \n",
    "        pyautogui.moveRel(xOffset=(dt_x.predict([simple_muscle_data]) * gain), yOffset=(dt_y.predict([simple_muscle_data]) * gain))\n",
    "\n",
    "        \n",
    "        \n",
    "        \n",
    "# complex model functions        \n",
    "def move_mouse_nn_pos():\n",
    "    with graph.as_default():\n",
    "        while run:\n",
    "#             muscle_data.reverse()\n",
    "#             pyautogui.move([int(val) for val in nn_pos.predict(np.array(to_predict)[None, :])[0]])\n",
    "            print([int(val) for val in nn_pos.predict(np.array(to_predict)[None, :])[0]])\n",
    "#             muscle_data.reverse()"
   ]
  },
  {
   "cell_type": "code",
   "execution_count": null,
   "metadata": {
    "ExecuteTime": {
     "start_time": "2020-03-10T15:18:47.811Z"
    }
   },
   "outputs": [],
   "source": [
    "# the final controll loops\n",
    "\n",
    "run = True\n",
    "lock = threading.Lock()\n",
    "\n",
    "t1 = threading.Thread(target=simple_measure_muscle,)\n",
    "t2 = threading.Thread(target=move_mouse_rf)\n",
    "\n",
    "t1.start()\n",
    "\n",
    "# wait for the deques to be full of data\n",
    "time.sleep(5)\n",
    "\n",
    "t2.start()\n",
    "\n",
    "time.sleep(20)\n",
    "\n",
    "run = False\n",
    "\n",
    "t1.join()\n",
    "t2.join()"
   ]
  },
  {
   "cell_type": "code",
   "execution_count": null,
   "metadata": {},
   "outputs": [],
   "source": []
  }
 ],
 "metadata": {
  "kernelspec": {
   "display_name": "Python 3",
   "language": "python",
   "name": "python3"
  },
  "language_info": {
   "codemirror_mode": {
    "name": "ipython",
    "version": 3
   },
   "file_extension": ".py",
   "mimetype": "text/x-python",
   "name": "python",
   "nbconvert_exporter": "python",
   "pygments_lexer": "ipython3",
   "version": "3.7.6"
  }
 },
 "nbformat": 4,
 "nbformat_minor": 4
}
