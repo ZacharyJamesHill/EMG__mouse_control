{
 "cells": [
  {
   "cell_type": "code",
   "execution_count": 1,
   "metadata": {
    "ExecuteTime": {
     "end_time": "2020-03-11T14:17:44.788005Z",
     "start_time": "2020-03-11T14:17:42.901554Z"
    }
   },
   "outputs": [],
   "source": [
    "import pandas as pd\n",
    "import numpy as np\n",
    "import matplotlib.pyplot as plt\n",
    "from statsmodels.tsa.stattools import adfuller\n",
    "from statsmodels.tsa.arima_model import ARIMA\n",
    "\n",
    "\n",
    "from sklearn.model_selection import train_test_split\n",
    "from sklearn.linear_model import LinearRegression\n",
    "from sklearn.ensemble import RandomForestRegressor\n",
    "from sklearn.preprocessing import StandardScaler\n",
    "\n",
    "\n",
    "import pickle"
   ]
  },
  {
   "cell_type": "code",
   "execution_count": 2,
   "metadata": {
    "ExecuteTime": {
     "end_time": "2020-03-11T14:17:44.889204Z",
     "start_time": "2020-03-11T14:17:44.790963Z"
    }
   },
   "outputs": [
    {
     "data": {
      "text/html": [
       "<div>\n",
       "<style scoped>\n",
       "    .dataframe tbody tr th:only-of-type {\n",
       "        vertical-align: middle;\n",
       "    }\n",
       "\n",
       "    .dataframe tbody tr th {\n",
       "        vertical-align: top;\n",
       "    }\n",
       "\n",
       "    .dataframe thead th {\n",
       "        text-align: right;\n",
       "    }\n",
       "</style>\n",
       "<table border=\"1\" class=\"dataframe\">\n",
       "  <thead>\n",
       "    <tr style=\"text-align: right;\">\n",
       "      <th></th>\n",
       "      <th>x_pos</th>\n",
       "      <th>y_pos</th>\n",
       "      <th>channel_1</th>\n",
       "      <th>channel_2</th>\n",
       "      <th>channel_3</th>\n",
       "      <th>channel_4</th>\n",
       "    </tr>\n",
       "  </thead>\n",
       "  <tbody>\n",
       "    <tr>\n",
       "      <th>0</th>\n",
       "      <td>2272.0</td>\n",
       "      <td>659.0</td>\n",
       "      <td>319</td>\n",
       "      <td>19</td>\n",
       "      <td>0</td>\n",
       "      <td>83</td>\n",
       "    </tr>\n",
       "    <tr>\n",
       "      <th>1</th>\n",
       "      <td>2268.0</td>\n",
       "      <td>661.0</td>\n",
       "      <td>22</td>\n",
       "      <td>32</td>\n",
       "      <td>0</td>\n",
       "      <td>83</td>\n",
       "    </tr>\n",
       "    <tr>\n",
       "      <th>2</th>\n",
       "      <td>2265.0</td>\n",
       "      <td>664.0</td>\n",
       "      <td>22</td>\n",
       "      <td>31</td>\n",
       "      <td>12</td>\n",
       "      <td>83</td>\n",
       "    </tr>\n",
       "    <tr>\n",
       "      <th>3</th>\n",
       "      <td>2265.0</td>\n",
       "      <td>664.0</td>\n",
       "      <td>22</td>\n",
       "      <td>31</td>\n",
       "      <td>16</td>\n",
       "      <td>111</td>\n",
       "    </tr>\n",
       "    <tr>\n",
       "      <th>4</th>\n",
       "      <td>2265.0</td>\n",
       "      <td>664.0</td>\n",
       "      <td>21</td>\n",
       "      <td>31</td>\n",
       "      <td>16</td>\n",
       "      <td>111</td>\n",
       "    </tr>\n",
       "    <tr>\n",
       "      <th>...</th>\n",
       "      <td>...</td>\n",
       "      <td>...</td>\n",
       "      <td>...</td>\n",
       "      <td>...</td>\n",
       "      <td>...</td>\n",
       "      <td>...</td>\n",
       "    </tr>\n",
       "    <tr>\n",
       "      <th>122532</th>\n",
       "      <td>1577.0</td>\n",
       "      <td>1148.0</td>\n",
       "      <td>13</td>\n",
       "      <td>28</td>\n",
       "      <td>6</td>\n",
       "      <td>351</td>\n",
       "    </tr>\n",
       "    <tr>\n",
       "      <th>122533</th>\n",
       "      <td>1577.0</td>\n",
       "      <td>1148.0</td>\n",
       "      <td>13</td>\n",
       "      <td>28</td>\n",
       "      <td>6</td>\n",
       "      <td>351</td>\n",
       "    </tr>\n",
       "    <tr>\n",
       "      <th>122534</th>\n",
       "      <td>1581.0</td>\n",
       "      <td>1148.0</td>\n",
       "      <td>13</td>\n",
       "      <td>28</td>\n",
       "      <td>6</td>\n",
       "      <td>351</td>\n",
       "    </tr>\n",
       "    <tr>\n",
       "      <th>122535</th>\n",
       "      <td>1581.0</td>\n",
       "      <td>1148.0</td>\n",
       "      <td>13</td>\n",
       "      <td>28</td>\n",
       "      <td>6</td>\n",
       "      <td>350</td>\n",
       "    </tr>\n",
       "    <tr>\n",
       "      <th>122536</th>\n",
       "      <td>1584.0</td>\n",
       "      <td>1149.0</td>\n",
       "      <td>13</td>\n",
       "      <td>28</td>\n",
       "      <td>6</td>\n",
       "      <td>350</td>\n",
       "    </tr>\n",
       "  </tbody>\n",
       "</table>\n",
       "<p>122537 rows × 6 columns</p>\n",
       "</div>"
      ],
      "text/plain": [
       "         x_pos   y_pos  channel_1  channel_2  channel_3  channel_4\n",
       "0       2272.0   659.0        319         19          0         83\n",
       "1       2268.0   661.0         22         32          0         83\n",
       "2       2265.0   664.0         22         31         12         83\n",
       "3       2265.0   664.0         22         31         16        111\n",
       "4       2265.0   664.0         21         31         16        111\n",
       "...        ...     ...        ...        ...        ...        ...\n",
       "122532  1577.0  1148.0         13         28          6        351\n",
       "122533  1577.0  1148.0         13         28          6        351\n",
       "122534  1581.0  1148.0         13         28          6        351\n",
       "122535  1581.0  1148.0         13         28          6        350\n",
       "122536  1584.0  1149.0         13         28          6        350\n",
       "\n",
       "[122537 rows x 6 columns]"
      ]
     },
     "execution_count": 2,
     "metadata": {},
     "output_type": "execute_result"
    }
   ],
   "source": [
    "df = pd.read_csv('../data/raw_recording_1.csv')\n",
    "df"
   ]
  },
  {
   "cell_type": "code",
   "execution_count": 3,
   "metadata": {
    "ExecuteTime": {
     "end_time": "2020-03-11T14:17:44.897204Z",
     "start_time": "2020-03-11T14:17:44.893202Z"
    }
   },
   "outputs": [],
   "source": [
    "# df.drop(columns=['time', 'start', 'end'], inplace=True)"
   ]
  },
  {
   "cell_type": "code",
   "execution_count": 4,
   "metadata": {
    "ExecuteTime": {
     "end_time": "2020-03-11T14:18:25.977341Z",
     "start_time": "2020-03-11T14:17:44.901203Z"
    }
   },
   "outputs": [],
   "source": [
    "for i in range(1,500):\n",
    "\n",
    "    df[f'channel_1_{i}'] = df['channel_1'].shift(i)\n",
    "    df[f'channel_2_{i}'] = df['channel_2'].shift(i)\n",
    "    df[f'channel_3_{i}'] = df['channel_3'].shift(i)\n",
    "    df[f'channel_4_{i}'] = df['channel_4'].shift(i)"
   ]
  },
  {
   "cell_type": "code",
   "execution_count": 5,
   "metadata": {
    "ExecuteTime": {
     "end_time": "2020-03-11T14:18:25.991327Z",
     "start_time": "2020-03-11T14:18:25.980338Z"
    }
   },
   "outputs": [],
   "source": [
    "df['x_diff'] = df['x_pos'].diff()\n",
    "df['y_diff'] = df['y_pos'].diff()"
   ]
  },
  {
   "cell_type": "code",
   "execution_count": null,
   "metadata": {
    "ExecuteTime": {
     "end_time": "2020-03-09T21:06:04.505994Z",
     "start_time": "2020-03-09T21:06:04.500967Z"
    }
   },
   "outputs": [],
   "source": []
  },
  {
   "cell_type": "code",
   "execution_count": 6,
   "metadata": {
    "ExecuteTime": {
     "end_time": "2020-03-11T14:18:33.900746Z",
     "start_time": "2020-03-11T14:18:25.996327Z"
    }
   },
   "outputs": [],
   "source": [
    "df.dropna(inplace=True)"
   ]
  },
  {
   "cell_type": "code",
   "execution_count": 7,
   "metadata": {
    "ExecuteTime": {
     "end_time": "2020-03-11T14:18:35.517709Z",
     "start_time": "2020-03-11T14:18:33.902746Z"
    }
   },
   "outputs": [],
   "source": [
    "X = df.drop(columns=['x_pos', 'y_pos', 'x_diff', 'y_diff'])\n",
    "y = list(df['x_diff'])\n",
    "\n",
    "W = X\n",
    "z = list(df['y_diff'])"
   ]
  },
  {
   "cell_type": "code",
   "execution_count": 8,
   "metadata": {
    "ExecuteTime": {
     "end_time": "2020-03-11T14:18:52.254366Z",
     "start_time": "2020-03-11T14:18:35.520709Z"
    }
   },
   "outputs": [],
   "source": [
    "X_train, X_test, y_train, y_test = train_test_split(X, y, random_state = 42)\n",
    "W_train, W_test, z_train, z_test = train_test_split(W, z, random_state = 42)"
   ]
  },
  {
   "cell_type": "code",
   "execution_count": null,
   "metadata": {
    "ExecuteTime": {
     "start_time": "2020-03-11T14:17:42.965Z"
    }
   },
   "outputs": [],
   "source": [
    "lr_x = RandomForestRegressor(n_estimators=25)\n",
    "lr_x.fit(X_train, y_train)\n",
    "\n",
    "lr_y = RandomForestRegressor(n_estimators=25)\n",
    "lr_y.fit(W_train, z_train)"
   ]
  },
  {
   "cell_type": "code",
   "execution_count": null,
   "metadata": {
    "ExecuteTime": {
     "start_time": "2020-03-11T14:17:42.968Z"
    }
   },
   "outputs": [],
   "source": [
    "lr_x.score(X_train, y_train), lr_x.score(X_test, y_test)"
   ]
  },
  {
   "cell_type": "code",
   "execution_count": null,
   "metadata": {
    "ExecuteTime": {
     "start_time": "2020-03-11T14:17:42.970Z"
    }
   },
   "outputs": [],
   "source": [
    "lr_y.score(W_train, z_train), lr_y.score(W_test, z_test)"
   ]
  },
  {
   "cell_type": "code",
   "execution_count": null,
   "metadata": {
    "ExecuteTime": {
     "start_time": "2020-03-11T14:17:42.972Z"
    }
   },
   "outputs": [],
   "source": [
    "plt.figure(figsize=(100,100))\n",
    "plt.plot(y, z);\n",
    "plt.plot(lr_x.predict(X), lr_y.predict(W));\n"
   ]
  },
  {
   "cell_type": "code",
   "execution_count": null,
   "metadata": {
    "ExecuteTime": {
     "start_time": "2020-03-11T14:17:42.978Z"
    }
   },
   "outputs": [],
   "source": [
    "plt.figure(figsize=(100,100))\n",
    "plt.plot(y[:10000]);\n",
    "plt.plot(lr_x.predict(X)[:10000]);\n"
   ]
  },
  {
   "cell_type": "code",
   "execution_count": null,
   "metadata": {
    "ExecuteTime": {
     "start_time": "2020-03-11T14:17:42.985Z"
    }
   },
   "outputs": [],
   "source": [
    "plt.figure(figsize=(100,100))\n",
    "plt.plot(z[:10000]);\n",
    "plt.plot(lr_y.predict(W)[:10000]);\n"
   ]
  },
  {
   "cell_type": "code",
   "execution_count": null,
   "metadata": {
    "ExecuteTime": {
     "start_time": "2020-03-11T14:17:42.993Z"
    }
   },
   "outputs": [],
   "source": [
    "with open('../pickled_models/rf_x.pkl', 'wb') as f:\n",
    "    pickle.dump(lr_x, f)\n",
    "\n",
    "\n",
    "with open('../pickled_models/rf_y.pkl', 'wb') as f:\n",
    "    pickle.dump(lr_y, f)\n"
   ]
  },
  {
   "cell_type": "code",
   "execution_count": null,
   "metadata": {},
   "outputs": [],
   "source": []
  }
 ],
 "metadata": {
  "kernelspec": {
   "display_name": "Python 3",
   "language": "python",
   "name": "python3"
  },
  "language_info": {
   "codemirror_mode": {
    "name": "ipython",
    "version": 3
   },
   "file_extension": ".py",
   "mimetype": "text/x-python",
   "name": "python",
   "nbconvert_exporter": "python",
   "pygments_lexer": "ipython3",
   "version": "3.7.6"
  }
 },
 "nbformat": 4,
 "nbformat_minor": 4
}
