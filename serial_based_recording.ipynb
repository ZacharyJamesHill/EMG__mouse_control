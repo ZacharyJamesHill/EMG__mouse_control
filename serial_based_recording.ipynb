{
 "cells": [
  {
   "cell_type": "code",
   "execution_count": 1,
   "metadata": {
    "ExecuteTime": {
     "end_time": "2020-03-09T02:31:09.016317Z",
     "start_time": "2020-03-09T02:31:06.890080Z"
    }
   },
   "outputs": [],
   "source": [
    "import threading\n",
    "import serial\n",
    "import time\n",
    "import matplotlib.pyplot as plt \n",
    "import numpy as np\n",
    "import pyautogui\n",
    "import pandas as pd\n",
    "from bitstring import BitArray\n",
    "from collections import deque\n",
    "from tqdm import tqdm"
   ]
  },
  {
   "cell_type": "code",
   "execution_count": 2,
   "metadata": {
    "ExecuteTime": {
     "end_time": "2020-03-09T02:31:09.022330Z",
     "start_time": "2020-03-09T02:31:09.018317Z"
    }
   },
   "outputs": [],
   "source": [
    "# setting up lists to record into\n",
    "\n",
    "\n",
    "\n",
    "num_channel = 4\n",
    "\n",
    "mouse_data = []\n",
    "\n",
    "mouse_times = []\n",
    "\n",
    "muscle_times = []\n",
    "\n",
    "muscle_data = []"
   ]
  },
  {
   "cell_type": "code",
   "execution_count": 3,
   "metadata": {
    "ExecuteTime": {
     "end_time": "2020-03-09T02:31:09.039316Z",
     "start_time": "2020-03-09T02:31:09.025317Z"
    }
   },
   "outputs": [],
   "source": [
    "#  function to record mouse positions and time of recordings\n",
    "    \n",
    "def measure_mouse():\n",
    "        \n",
    "    while run:\n",
    "            \n",
    "        mouse_times.append(time.time())\n",
    "            \n",
    "        mouse_data.append(pyautogui.position())\n",
    "            \n",
    "            \n",
    "\n",
    "# Function to record raw serial data and time of recordings            \n",
    "            \n",
    "def measure_muscle():\n",
    "        \n",
    "    ser = serial.Serial('COM4', 230400)\n",
    "    while run:\n",
    "            \n",
    "        muscle_times.append(time.time())\n",
    "\n",
    "        muscle_data.append(self.ser.read(1))\n",
    "            \n"
   ]
  },
  {
   "cell_type": "code",
   "execution_count": 5,
   "metadata": {
    "ExecuteTime": {
     "end_time": "2020-03-09T02:32:09.083557Z",
     "start_time": "2020-03-09T02:31:09.061317Z"
    }
   },
   "outputs": [
    {
     "data": {
      "text/plain": [
       "(None, None)"
      ]
     },
     "execution_count": 5,
     "metadata": {},
     "output_type": "execute_result"
    }
   ],
   "source": [
    "# running recording functions semi simultaneously on two threads \n",
    "\n",
    "run = True\n",
    "lock = threading.Lock()\n",
    "\n",
    "t1 = threading.Thread(target=measure_muscle,)\n",
    "t2 = threading.Thread(target=measure_mouse,)\n",
    "\n",
    "\n",
    "t1.start(), t2.start()\n",
    "\n",
    "\n",
    "time.sleep(60)\n",
    "\n",
    "run = False\n",
    "\n",
    "t1.join(), t2.join()\n"
   ]
  },
  {
   "cell_type": "code",
   "execution_count": 6,
   "metadata": {
    "ExecuteTime": {
     "end_time": "2020-03-09T02:32:21.838671Z",
     "start_time": "2020-03-09T02:32:09.085553Z"
    }
   },
   "outputs": [],
   "source": [
    "# converting bytes in muscle data to binary strings \n",
    "muscle_data = [BitArray(val).bin for val in muscle_data]"
   ]
  },
  {
   "cell_type": "code",
   "execution_count": 7,
   "metadata": {
    "ExecuteTime": {
     "end_time": "2020-03-09T02:32:21.847410Z",
     "start_time": "2020-03-09T02:32:21.840404Z"
    }
   },
   "outputs": [
    {
     "data": {
      "text/plain": [
       "(3486727, 980323)"
      ]
     },
     "execution_count": 7,
     "metadata": {},
     "output_type": "execute_result"
    }
   ],
   "source": [
    "len(mouse_data), len(muscle_data)"
   ]
  },
  {
   "cell_type": "code",
   "execution_count": 8,
   "metadata": {
    "ExecuteTime": {
     "end_time": "2020-03-09T02:32:26.051572Z",
     "start_time": "2020-03-09T02:32:21.850406Z"
    }
   },
   "outputs": [],
   "source": [
    "# setting up mouse and muscle dataframes\n",
    "\n",
    "mouse = pd.DataFrame({'mouse_pos':mouse_data, 'mouse_time':mouse_times})\n",
    "muscle = pd.DataFrame({'muscle_data':muscle_data, 'muscle_time':muscle_times})"
   ]
  },
  {
   "cell_type": "code",
   "execution_count": 9,
   "metadata": {
    "ExecuteTime": {
     "end_time": "2020-03-09T02:32:26.109574Z",
     "start_time": "2020-03-09T02:32:26.053572Z"
    }
   },
   "outputs": [],
   "source": [
    "# counting frames in muscle data\n",
    "count = 0\n",
    "for val in muscle['muscle_data']:\n",
    "   \n",
    "    if int(val[0]):\n",
    "        break\n",
    "    else:\n",
    "        pass\n",
    "    count += 1\n",
    "muscle = muscle[count:].reset_index(drop=True)"
   ]
  },
  {
   "cell_type": "code",
   "execution_count": 11,
   "metadata": {
    "ExecuteTime": {
     "end_time": "2020-03-09T02:32:40.216295Z",
     "start_time": "2020-03-09T02:32:26.136574Z"
    }
   },
   "outputs": [],
   "source": [
    "# converting binary string to list of frames and converting individual times to time ranges\n",
    "\n",
    "frames = []\n",
    "time_ranges = []\n",
    "for i, val in enumerate(muscle['muscle_data']):\n",
    "    if bool(int(val[0])):\n",
    "        frames.append(muscle['muscle_data'][i:i+num_channel*2])\n",
    "        try:\n",
    "            time_ranges.append([muscle['muscle_time'][i], muscle['muscle_time'][i + num_channel * 2]])\n",
    "        except:\n",
    "            time_ranges.append(None)\n",
    "    else:\n",
    "        pass"
   ]
  },
  {
   "cell_type": "code",
   "execution_count": 12,
   "metadata": {
    "ExecuteTime": {
     "end_time": "2020-03-09T02:32:40.997137Z",
     "start_time": "2020-03-09T02:32:40.218145Z"
    }
   },
   "outputs": [],
   "source": [
    "# making frame vals lists\n",
    "frames = [list(val) for val in frames]"
   ]
  },
  {
   "cell_type": "code",
   "execution_count": 13,
   "metadata": {
    "ExecuteTime": {
     "end_time": "2020-03-09T02:32:41.012137Z",
     "start_time": "2020-03-09T02:32:40.998164Z"
    }
   },
   "outputs": [],
   "source": [
    "frames = frames[1:]\n",
    "time_ranges = time_ranges[1:]"
   ]
  },
  {
   "cell_type": "code",
   "execution_count": 14,
   "metadata": {
    "ExecuteTime": {
     "end_time": "2020-03-09T02:32:41.095136Z",
     "start_time": "2020-03-09T02:32:41.014140Z"
    }
   },
   "outputs": [],
   "source": [
    "# updating muscle data frame with time ranges and mucle frames\n",
    "muscle = pd.DataFrame({'muscle_data':frames, 'muscle_time_ranges':time_ranges})"
   ]
  },
  {
   "cell_type": "code",
   "execution_count": 15,
   "metadata": {
    "ExecuteTime": {
     "end_time": "2020-03-09T02:32:41.119136Z",
     "start_time": "2020-03-09T02:32:41.097136Z"
    }
   },
   "outputs": [
    {
     "data": {
      "text/html": [
       "<div>\n",
       "<style scoped>\n",
       "    .dataframe tbody tr th:only-of-type {\n",
       "        vertical-align: middle;\n",
       "    }\n",
       "\n",
       "    .dataframe tbody tr th {\n",
       "        vertical-align: top;\n",
       "    }\n",
       "\n",
       "    .dataframe thead th {\n",
       "        text-align: right;\n",
       "    }\n",
       "</style>\n",
       "<table border=\"1\" class=\"dataframe\">\n",
       "  <thead>\n",
       "    <tr style=\"text-align: right;\">\n",
       "      <th></th>\n",
       "      <th>muscle_data</th>\n",
       "      <th>muscle_time_ranges</th>\n",
       "    </tr>\n",
       "  </thead>\n",
       "  <tbody>\n",
       "    <tr>\n",
       "      <th>0</th>\n",
       "      <td>[10000001, 00111111, 00000000, 00010011, 00000...</td>\n",
       "      <td>[1583721071.0505328, 1583721071.0515368]</td>\n",
       "    </tr>\n",
       "    <tr>\n",
       "      <th>1</th>\n",
       "      <td>[10000000, 00010110, 00000000, 00100000, 00000...</td>\n",
       "      <td>[1583721071.0515368, 1583721071.0525389]</td>\n",
       "    </tr>\n",
       "    <tr>\n",
       "      <th>2</th>\n",
       "      <td>[10000000, 00010110, 00000000, 00011111, 00000...</td>\n",
       "      <td>[1583721071.0525389, 1583721071.0525389]</td>\n",
       "    </tr>\n",
       "    <tr>\n",
       "      <th>3</th>\n",
       "      <td>[10000000, 00010110, 00000000, 00011111, 00000...</td>\n",
       "      <td>[1583721071.0525389, 1583721071.0525389]</td>\n",
       "    </tr>\n",
       "    <tr>\n",
       "      <th>4</th>\n",
       "      <td>[10000000, 00010101, 00000000, 00011111, 00000...</td>\n",
       "      <td>[1583721071.0525389, 1583721071.0525389]</td>\n",
       "    </tr>\n",
       "  </tbody>\n",
       "</table>\n",
       "</div>"
      ],
      "text/plain": [
       "                                         muscle_data  \\\n",
       "0  [10000001, 00111111, 00000000, 00010011, 00000...   \n",
       "1  [10000000, 00010110, 00000000, 00100000, 00000...   \n",
       "2  [10000000, 00010110, 00000000, 00011111, 00000...   \n",
       "3  [10000000, 00010110, 00000000, 00011111, 00000...   \n",
       "4  [10000000, 00010101, 00000000, 00011111, 00000...   \n",
       "\n",
       "                         muscle_time_ranges  \n",
       "0  [1583721071.0505328, 1583721071.0515368]  \n",
       "1  [1583721071.0515368, 1583721071.0525389]  \n",
       "2  [1583721071.0525389, 1583721071.0525389]  \n",
       "3  [1583721071.0525389, 1583721071.0525389]  \n",
       "4  [1583721071.0525389, 1583721071.0525389]  "
      ]
     },
     "metadata": {},
     "output_type": "display_data"
    },
    {
     "data": {
      "text/html": [
       "<div>\n",
       "<style scoped>\n",
       "    .dataframe tbody tr th:only-of-type {\n",
       "        vertical-align: middle;\n",
       "    }\n",
       "\n",
       "    .dataframe tbody tr th {\n",
       "        vertical-align: top;\n",
       "    }\n",
       "\n",
       "    .dataframe thead th {\n",
       "        text-align: right;\n",
       "    }\n",
       "</style>\n",
       "<table border=\"1\" class=\"dataframe\">\n",
       "  <thead>\n",
       "    <tr style=\"text-align: right;\">\n",
       "      <th></th>\n",
       "      <th>mouse_pos</th>\n",
       "      <th>mouse_time</th>\n",
       "    </tr>\n",
       "  </thead>\n",
       "  <tbody>\n",
       "    <tr>\n",
       "      <th>0</th>\n",
       "      <td>(2044, 911)</td>\n",
       "      <td>1.583721e+09</td>\n",
       "    </tr>\n",
       "    <tr>\n",
       "      <th>1</th>\n",
       "      <td>(2044, 911)</td>\n",
       "      <td>1.583721e+09</td>\n",
       "    </tr>\n",
       "    <tr>\n",
       "      <th>2</th>\n",
       "      <td>(2044, 911)</td>\n",
       "      <td>1.583721e+09</td>\n",
       "    </tr>\n",
       "    <tr>\n",
       "      <th>3</th>\n",
       "      <td>(2044, 911)</td>\n",
       "      <td>1.583721e+09</td>\n",
       "    </tr>\n",
       "    <tr>\n",
       "      <th>4</th>\n",
       "      <td>(2044, 911)</td>\n",
       "      <td>1.583721e+09</td>\n",
       "    </tr>\n",
       "  </tbody>\n",
       "</table>\n",
       "</div>"
      ],
      "text/plain": [
       "     mouse_pos    mouse_time\n",
       "0  (2044, 911)  1.583721e+09\n",
       "1  (2044, 911)  1.583721e+09\n",
       "2  (2044, 911)  1.583721e+09\n",
       "3  (2044, 911)  1.583721e+09\n",
       "4  (2044, 911)  1.583721e+09"
      ]
     },
     "execution_count": 15,
     "metadata": {},
     "output_type": "execute_result"
    }
   ],
   "source": [
    "# peeking at data\n",
    "\n",
    "display(muscle.head())\n",
    "mouse.head()"
   ]
  },
  {
   "cell_type": "code",
   "execution_count": 16,
   "metadata": {
    "ExecuteTime": {
     "end_time": "2020-03-09T02:32:41.764153Z",
     "start_time": "2020-03-09T02:32:41.121138Z"
    }
   },
   "outputs": [],
   "source": [
    "# removing duplicate mouse recordings\n",
    "mouse.drop_duplicates(inplace = True)"
   ]
  },
  {
   "cell_type": "code",
   "execution_count": 17,
   "metadata": {
    "ExecuteTime": {
     "end_time": "2020-03-09T03:00:30.853666Z",
     "start_time": "2020-03-09T02:32:41.765135Z"
    }
   },
   "outputs": [
    {
     "name": "stderr",
     "output_type": "stream",
     "text": [
      "100%|█████████▉| 122396/122538 [27:48<00:00, 1543.73it/s]"
     ]
    },
    {
     "ename": "TypeError",
     "evalue": "'NoneType' object is not subscriptable",
     "output_type": "error",
     "traceback": [
      "\u001b[1;31m---------------------------------------------------------------------------\u001b[0m",
      "\u001b[1;31mTypeError\u001b[0m                                 Traceback (most recent call last)",
      "\u001b[1;32m<ipython-input-17-7c283bdab0d3>\u001b[0m in \u001b[0;36m<module>\u001b[1;34m\u001b[0m\n\u001b[0;32m      2\u001b[0m \u001b[1;33m\u001b[0m\u001b[0m\n\u001b[0;32m      3\u001b[0m \u001b[1;32mfor\u001b[0m \u001b[0mval\u001b[0m \u001b[1;32min\u001b[0m \u001b[0mtqdm\u001b[0m\u001b[1;33m(\u001b[0m\u001b[0mmuscle\u001b[0m\u001b[1;33m[\u001b[0m\u001b[1;34m'muscle_time_ranges'\u001b[0m\u001b[1;33m]\u001b[0m\u001b[1;33m)\u001b[0m\u001b[1;33m:\u001b[0m\u001b[1;33m\u001b[0m\u001b[1;33m\u001b[0m\u001b[0m\n\u001b[1;32m----> 4\u001b[1;33m     \u001b[0mmouse\u001b[0m \u001b[1;33m=\u001b[0m \u001b[0mmouse\u001b[0m\u001b[1;33m[\u001b[0m\u001b[0mmouse\u001b[0m\u001b[1;33m[\u001b[0m\u001b[1;34m'mouse_time'\u001b[0m\u001b[1;33m]\u001b[0m \u001b[1;33m>=\u001b[0m \u001b[0mval\u001b[0m\u001b[1;33m[\u001b[0m\u001b[1;36m0\u001b[0m\u001b[1;33m]\u001b[0m\u001b[1;33m]\u001b[0m\u001b[1;33m\u001b[0m\u001b[1;33m\u001b[0m\u001b[0m\n\u001b[0m\u001b[0;32m      5\u001b[0m \u001b[1;33m\u001b[0m\u001b[0m\n\u001b[0;32m      6\u001b[0m     \u001b[0mdown_sampled_mouse\u001b[0m\u001b[1;33m.\u001b[0m\u001b[0mappend\u001b[0m\u001b[1;33m(\u001b[0m\u001b[0mlist\u001b[0m\u001b[1;33m(\u001b[0m\u001b[0mmouse\u001b[0m\u001b[1;33m[\u001b[0m\u001b[1;34m'mouse_pos'\u001b[0m\u001b[1;33m]\u001b[0m\u001b[1;33m)\u001b[0m\u001b[1;33m[\u001b[0m\u001b[1;36m0\u001b[0m\u001b[1;33m]\u001b[0m\u001b[1;33m)\u001b[0m\u001b[1;33m\u001b[0m\u001b[1;33m\u001b[0m\u001b[0m\n",
      "\u001b[1;31mTypeError\u001b[0m: 'NoneType' object is not subscriptable"
     ]
    }
   ],
   "source": [
    "# down sampling mouse data to match muscle data\n",
    "\n",
    "down_sampled_mouse = []\n",
    "\n",
    "for val in tqdm(muscle['muscle_time_ranges']):\n",
    "    mouse = mouse[mouse['mouse_time'] >= val[0]]\n",
    "    \n",
    "    down_sampled_mouse.append(list(mouse['mouse_pos'])[0])\n",
    "        \n",
    "#     except:\n",
    "#         down_sampled_mouse.append([None, None])\n",
    "#     for i in range(len(mouse)):\n",
    "#         if mouse['mouse_time'][i] >= val[0]:\n",
    "#             down_sampled_mouse.append(mouse['mouse_pos'][i])\n",
    "#             break\n",
    "#         else:\n",
    "#             mouse.drop(i, inplace=True)\n",
    "    "
   ]
  },
  {
   "cell_type": "code",
   "execution_count": 18,
   "metadata": {
    "ExecuteTime": {
     "end_time": "2020-03-09T03:00:41.434370Z",
     "start_time": "2020-03-09T03:00:41.428383Z"
    }
   },
   "outputs": [
    {
     "data": {
      "text/plain": [
       "(122537, 122538)"
      ]
     },
     "execution_count": 18,
     "metadata": {},
     "output_type": "execute_result"
    }
   ],
   "source": [
    "# checking lengths of muscle and mouse\n",
    "len(down_sampled_mouse), len(muscle)"
   ]
  },
  {
   "cell_type": "code",
   "execution_count": 19,
   "metadata": {
    "ExecuteTime": {
     "end_time": "2020-03-09T03:00:42.078256Z",
     "start_time": "2020-03-09T03:00:42.074263Z"
    }
   },
   "outputs": [],
   "source": [
    "down_sampled_mouse.append([None, None])"
   ]
  },
  {
   "cell_type": "code",
   "execution_count": 20,
   "metadata": {
    "ExecuteTime": {
     "end_time": "2020-03-09T03:00:42.879185Z",
     "start_time": "2020-03-09T03:00:42.723990Z"
    }
   },
   "outputs": [
    {
     "name": "stderr",
     "output_type": "stream",
     "text": [
      "\r",
      "100%|█████████▉| 122396/122538 [28:01<00:00, 1543.73it/s]"
     ]
    }
   ],
   "source": [
    "# creating final dataframe\n",
    "df = muscle\n",
    "df['mouse_pos'] = down_sampled_mouse"
   ]
  },
  {
   "cell_type": "code",
   "execution_count": 21,
   "metadata": {
    "ExecuteTime": {
     "end_time": "2020-03-09T03:00:45.190563Z",
     "start_time": "2020-03-09T03:00:44.998508Z"
    }
   },
   "outputs": [],
   "source": [
    "# turning pyautogui points into two seperate columns for export\n",
    "\n",
    "df['x_pos'] = ([val[0] for val in df['mouse_pos']])\n",
    "df['y_pos'] = ([val[1] for val in df['mouse_pos']])\n",
    "\n",
    "    \n",
    "df.drop(columns = 'mouse_pos', inplace = True)\n"
   ]
  },
  {
   "cell_type": "code",
   "execution_count": 22,
   "metadata": {
    "ExecuteTime": {
     "end_time": "2020-03-09T03:00:45.707879Z",
     "start_time": "2020-03-09T03:00:45.694844Z"
    }
   },
   "outputs": [],
   "source": [
    "df.drop(columns='muscle_time_ranges', inplace=True)"
   ]
  },
  {
   "cell_type": "code",
   "execution_count": 23,
   "metadata": {
    "ExecuteTime": {
     "end_time": "2020-03-09T03:00:47.167876Z",
     "start_time": "2020-03-09T03:00:46.340814Z"
    }
   },
   "outputs": [],
   "source": [
    "# seperating muscle data into seperate channels\n",
    "df['channel_1'] = [val[:2] for val in df['muscle_data']]\n",
    "df['channel_2'] = [val[2:4] for val in df['muscle_data']]\n",
    "df['channel_3'] = [val[4:6] for val in df['muscle_data']]\n",
    "df['channel_4'] = [val[6:8] for val in df['muscle_data']]\n",
    "\n"
   ]
  },
  {
   "cell_type": "code",
   "execution_count": 24,
   "metadata": {
    "ExecuteTime": {
     "end_time": "2020-03-09T03:00:47.245868Z",
     "start_time": "2020-03-09T03:00:47.168839Z"
    }
   },
   "outputs": [],
   "source": [
    "df.drop(columns='muscle_data', inplace=True)"
   ]
  },
  {
   "cell_type": "code",
   "execution_count": 25,
   "metadata": {
    "ExecuteTime": {
     "end_time": "2020-03-09T03:00:47.764433Z",
     "start_time": "2020-03-09T03:00:47.705440Z"
    }
   },
   "outputs": [],
   "source": [
    "df.dropna(inplace=True)"
   ]
  },
  {
   "cell_type": "code",
   "execution_count": 26,
   "metadata": {
    "ExecuteTime": {
     "end_time": "2020-03-09T03:00:48.222914Z",
     "start_time": "2020-03-09T03:00:48.203919Z"
    }
   },
   "outputs": [
    {
     "data": {
      "text/html": [
       "<div>\n",
       "<style scoped>\n",
       "    .dataframe tbody tr th:only-of-type {\n",
       "        vertical-align: middle;\n",
       "    }\n",
       "\n",
       "    .dataframe tbody tr th {\n",
       "        vertical-align: top;\n",
       "    }\n",
       "\n",
       "    .dataframe thead th {\n",
       "        text-align: right;\n",
       "    }\n",
       "</style>\n",
       "<table border=\"1\" class=\"dataframe\">\n",
       "  <thead>\n",
       "    <tr style=\"text-align: right;\">\n",
       "      <th></th>\n",
       "      <th>x_pos</th>\n",
       "      <th>y_pos</th>\n",
       "      <th>channel_1</th>\n",
       "      <th>channel_2</th>\n",
       "      <th>channel_3</th>\n",
       "      <th>channel_4</th>\n",
       "    </tr>\n",
       "  </thead>\n",
       "  <tbody>\n",
       "    <tr>\n",
       "      <th>0</th>\n",
       "      <td>2272.0</td>\n",
       "      <td>659.0</td>\n",
       "      <td>[10000001, 00111111]</td>\n",
       "      <td>[00000000, 00010011]</td>\n",
       "      <td>[00000000, 00000000]</td>\n",
       "      <td>[00000000, 01010011]</td>\n",
       "    </tr>\n",
       "    <tr>\n",
       "      <th>1</th>\n",
       "      <td>2268.0</td>\n",
       "      <td>661.0</td>\n",
       "      <td>[10000000, 00010110]</td>\n",
       "      <td>[00000000, 00100000]</td>\n",
       "      <td>[00000000, 00000000]</td>\n",
       "      <td>[00000000, 01010011]</td>\n",
       "    </tr>\n",
       "    <tr>\n",
       "      <th>2</th>\n",
       "      <td>2265.0</td>\n",
       "      <td>664.0</td>\n",
       "      <td>[10000000, 00010110]</td>\n",
       "      <td>[00000000, 00011111]</td>\n",
       "      <td>[00000000, 00001100]</td>\n",
       "      <td>[00000000, 01010011]</td>\n",
       "    </tr>\n",
       "    <tr>\n",
       "      <th>3</th>\n",
       "      <td>2265.0</td>\n",
       "      <td>664.0</td>\n",
       "      <td>[10000000, 00010110]</td>\n",
       "      <td>[00000000, 00011111]</td>\n",
       "      <td>[00000000, 00010000]</td>\n",
       "      <td>[00000000, 01101111]</td>\n",
       "    </tr>\n",
       "    <tr>\n",
       "      <th>4</th>\n",
       "      <td>2265.0</td>\n",
       "      <td>664.0</td>\n",
       "      <td>[10000000, 00010101]</td>\n",
       "      <td>[00000000, 00011111]</td>\n",
       "      <td>[00000000, 00010000]</td>\n",
       "      <td>[00000000, 01101111]</td>\n",
       "    </tr>\n",
       "  </tbody>\n",
       "</table>\n",
       "</div>"
      ],
      "text/plain": [
       "    x_pos  y_pos             channel_1             channel_2  \\\n",
       "0  2272.0  659.0  [10000001, 00111111]  [00000000, 00010011]   \n",
       "1  2268.0  661.0  [10000000, 00010110]  [00000000, 00100000]   \n",
       "2  2265.0  664.0  [10000000, 00010110]  [00000000, 00011111]   \n",
       "3  2265.0  664.0  [10000000, 00010110]  [00000000, 00011111]   \n",
       "4  2265.0  664.0  [10000000, 00010101]  [00000000, 00011111]   \n",
       "\n",
       "              channel_3             channel_4  \n",
       "0  [00000000, 00000000]  [00000000, 01010011]  \n",
       "1  [00000000, 00000000]  [00000000, 01010011]  \n",
       "2  [00000000, 00001100]  [00000000, 01010011]  \n",
       "3  [00000000, 00010000]  [00000000, 01101111]  \n",
       "4  [00000000, 00010000]  [00000000, 01101111]  "
      ]
     },
     "execution_count": 26,
     "metadata": {},
     "output_type": "execute_result"
    }
   ],
   "source": [
    "df.head()"
   ]
  },
  {
   "cell_type": "code",
   "execution_count": 27,
   "metadata": {
    "ExecuteTime": {
     "end_time": "2020-03-09T03:00:48.814927Z",
     "start_time": "2020-03-09T03:00:48.810937Z"
    }
   },
   "outputs": [],
   "source": [
    "# making function to turn list of binary strings into integers\n",
    "def raw_to_num(channel, is_first):\n",
    "    if is_first:\n",
    "        \n",
    "        channel[0] = '0' + channel[0][1:]\n",
    "  \n",
    "    channel = channel[0] + channel[1]\n",
    "    \n",
    "    channel = int(channel, 2)\n",
    "    \n",
    "    return(channel)"
   ]
  },
  {
   "cell_type": "code",
   "execution_count": 28,
   "metadata": {
    "ExecuteTime": {
     "end_time": "2020-03-09T03:00:49.878234Z",
     "start_time": "2020-03-09T03:00:49.411964Z"
    }
   },
   "outputs": [],
   "source": [
    "# appling raw to num to all channels\n",
    "df['channel_1'] = [raw_to_num(val, True) for val in df['channel_1']]\n",
    "df['channel_2'] = [raw_to_num(val, False) for val in df['channel_2']]\n",
    "df['channel_3'] = [raw_to_num(val, False) for val in df['channel_3']]\n",
    "df['channel_4'] = [raw_to_num(val, False) for val in df['channel_4']]"
   ]
  },
  {
   "cell_type": "code",
   "execution_count": 29,
   "metadata": {
    "ExecuteTime": {
     "end_time": "2020-03-09T03:00:50.630321Z",
     "start_time": "2020-03-09T03:00:50.614276Z"
    }
   },
   "outputs": [
    {
     "data": {
      "text/html": [
       "<div>\n",
       "<style scoped>\n",
       "    .dataframe tbody tr th:only-of-type {\n",
       "        vertical-align: middle;\n",
       "    }\n",
       "\n",
       "    .dataframe tbody tr th {\n",
       "        vertical-align: top;\n",
       "    }\n",
       "\n",
       "    .dataframe thead th {\n",
       "        text-align: right;\n",
       "    }\n",
       "</style>\n",
       "<table border=\"1\" class=\"dataframe\">\n",
       "  <thead>\n",
       "    <tr style=\"text-align: right;\">\n",
       "      <th></th>\n",
       "      <th>x_pos</th>\n",
       "      <th>y_pos</th>\n",
       "      <th>channel_1</th>\n",
       "      <th>channel_2</th>\n",
       "      <th>channel_3</th>\n",
       "      <th>channel_4</th>\n",
       "    </tr>\n",
       "  </thead>\n",
       "  <tbody>\n",
       "    <tr>\n",
       "      <th>0</th>\n",
       "      <td>2272.0</td>\n",
       "      <td>659.0</td>\n",
       "      <td>319</td>\n",
       "      <td>19</td>\n",
       "      <td>0</td>\n",
       "      <td>83</td>\n",
       "    </tr>\n",
       "    <tr>\n",
       "      <th>1</th>\n",
       "      <td>2268.0</td>\n",
       "      <td>661.0</td>\n",
       "      <td>22</td>\n",
       "      <td>32</td>\n",
       "      <td>0</td>\n",
       "      <td>83</td>\n",
       "    </tr>\n",
       "    <tr>\n",
       "      <th>2</th>\n",
       "      <td>2265.0</td>\n",
       "      <td>664.0</td>\n",
       "      <td>22</td>\n",
       "      <td>31</td>\n",
       "      <td>12</td>\n",
       "      <td>83</td>\n",
       "    </tr>\n",
       "    <tr>\n",
       "      <th>3</th>\n",
       "      <td>2265.0</td>\n",
       "      <td>664.0</td>\n",
       "      <td>22</td>\n",
       "      <td>31</td>\n",
       "      <td>16</td>\n",
       "      <td>111</td>\n",
       "    </tr>\n",
       "    <tr>\n",
       "      <th>4</th>\n",
       "      <td>2265.0</td>\n",
       "      <td>664.0</td>\n",
       "      <td>21</td>\n",
       "      <td>31</td>\n",
       "      <td>16</td>\n",
       "      <td>111</td>\n",
       "    </tr>\n",
       "    <tr>\n",
       "      <th>...</th>\n",
       "      <td>...</td>\n",
       "      <td>...</td>\n",
       "      <td>...</td>\n",
       "      <td>...</td>\n",
       "      <td>...</td>\n",
       "      <td>...</td>\n",
       "    </tr>\n",
       "    <tr>\n",
       "      <th>122532</th>\n",
       "      <td>1577.0</td>\n",
       "      <td>1148.0</td>\n",
       "      <td>13</td>\n",
       "      <td>28</td>\n",
       "      <td>6</td>\n",
       "      <td>351</td>\n",
       "    </tr>\n",
       "    <tr>\n",
       "      <th>122533</th>\n",
       "      <td>1577.0</td>\n",
       "      <td>1148.0</td>\n",
       "      <td>13</td>\n",
       "      <td>28</td>\n",
       "      <td>6</td>\n",
       "      <td>351</td>\n",
       "    </tr>\n",
       "    <tr>\n",
       "      <th>122534</th>\n",
       "      <td>1581.0</td>\n",
       "      <td>1148.0</td>\n",
       "      <td>13</td>\n",
       "      <td>28</td>\n",
       "      <td>6</td>\n",
       "      <td>351</td>\n",
       "    </tr>\n",
       "    <tr>\n",
       "      <th>122535</th>\n",
       "      <td>1581.0</td>\n",
       "      <td>1148.0</td>\n",
       "      <td>13</td>\n",
       "      <td>28</td>\n",
       "      <td>6</td>\n",
       "      <td>350</td>\n",
       "    </tr>\n",
       "    <tr>\n",
       "      <th>122536</th>\n",
       "      <td>1584.0</td>\n",
       "      <td>1149.0</td>\n",
       "      <td>13</td>\n",
       "      <td>28</td>\n",
       "      <td>6</td>\n",
       "      <td>350</td>\n",
       "    </tr>\n",
       "  </tbody>\n",
       "</table>\n",
       "<p>122537 rows × 6 columns</p>\n",
       "</div>"
      ],
      "text/plain": [
       "         x_pos   y_pos  channel_1  channel_2  channel_3  channel_4\n",
       "0       2272.0   659.0        319         19          0         83\n",
       "1       2268.0   661.0         22         32          0         83\n",
       "2       2265.0   664.0         22         31         12         83\n",
       "3       2265.0   664.0         22         31         16        111\n",
       "4       2265.0   664.0         21         31         16        111\n",
       "...        ...     ...        ...        ...        ...        ...\n",
       "122532  1577.0  1148.0         13         28          6        351\n",
       "122533  1577.0  1148.0         13         28          6        351\n",
       "122534  1581.0  1148.0         13         28          6        351\n",
       "122535  1581.0  1148.0         13         28          6        350\n",
       "122536  1584.0  1149.0         13         28          6        350\n",
       "\n",
       "[122537 rows x 6 columns]"
      ]
     },
     "execution_count": 29,
     "metadata": {},
     "output_type": "execute_result"
    }
   ],
   "source": [
    "# checking data one last time\n",
    "df"
   ]
  },
  {
   "cell_type": "code",
   "execution_count": 30,
   "metadata": {
    "ExecuteTime": {
     "end_time": "2020-03-09T03:00:51.873541Z",
     "start_time": "2020-03-09T03:00:51.463293Z"
    }
   },
   "outputs": [],
   "source": [
    "# saving data\n",
    "df.to_csv('data/raw_recording_2.csv', index=False)"
   ]
  },
  {
   "cell_type": "code",
   "execution_count": null,
   "metadata": {},
   "outputs": [],
   "source": []
  }
 ],
 "metadata": {
  "kernelspec": {
   "display_name": "Python 3",
   "language": "python",
   "name": "python3"
  },
  "language_info": {
   "codemirror_mode": {
    "name": "ipython",
    "version": 3
   },
   "file_extension": ".py",
   "mimetype": "text/x-python",
   "name": "python",
   "nbconvert_exporter": "python",
   "pygments_lexer": "ipython3",
   "version": "3.7.6"
  }
 },
 "nbformat": 4,
 "nbformat_minor": 4
}
