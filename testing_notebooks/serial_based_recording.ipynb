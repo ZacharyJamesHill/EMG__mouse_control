{
 "cells": [
  {
   "cell_type": "code",
   "execution_count": 1,
   "metadata": {
    "ExecuteTime": {
     "end_time": "2020-03-03T15:21:27.731143Z",
     "start_time": "2020-03-03T15:21:26.884351Z"
    }
   },
   "outputs": [],
   "source": [
    "import threading\n",
    "import serial\n",
    "import time\n",
    "import matplotlib.pyplot as plt \n",
    "import numpy as np\n",
    "import pyautogui\n",
    "from pynput import mouse\n",
    "import pandas as pd\n",
    "from bitstring import BitArray\n",
    "from collections import deque"
   ]
  },
  {
   "cell_type": "code",
   "execution_count": 2,
   "metadata": {
    "ExecuteTime": {
     "end_time": "2020-03-03T15:21:27.742361Z",
     "start_time": "2020-03-03T15:21:27.731143Z"
    }
   },
   "outputs": [],
   "source": [
    "num_channel = 2\n",
    "\n",
    "mouse_data = deque()\n",
    "\n",
    "mouse_times = deque()\n",
    "\n",
    "muscle_times = deque()\n",
    "\n",
    "muscle_data = deque()"
   ]
  },
  {
   "cell_type": "code",
   "execution_count": 3,
   "metadata": {
    "ExecuteTime": {
     "end_time": "2020-03-03T15:21:27.758372Z",
     "start_time": "2020-03-03T15:21:27.746359Z"
    }
   },
   "outputs": [],
   "source": [
    "class Measurer():\n",
    "    \n",
    "    \n",
    "    \n",
    "    def measure_mouse(self):\n",
    "        \n",
    "        while run:\n",
    "            \n",
    "            mouse_times.append(time.time())\n",
    "            \n",
    "            mouse_data.append(pyautogui.position())\n",
    "            \n",
    "#             self.time = time.time()\n",
    "    \n",
    "    def measure_muscle(self):\n",
    "        \n",
    "        self.ser = serial.Serial('COM4', 230400)\n",
    "        while run:\n",
    "            \n",
    "            muscle_times.append(time.time())\n",
    "\n",
    "            muscle_data.append(self.ser.read(1))\n",
    "            \n",
    "#             self.time = time.time()\n"
   ]
  },
  {
   "cell_type": "code",
   "execution_count": 4,
   "metadata": {
    "ExecuteTime": {
     "end_time": "2020-03-03T15:21:27.774356Z",
     "start_time": "2020-03-03T15:21:27.762358Z"
    }
   },
   "outputs": [],
   "source": [
    "\n",
    "measure = Measurer()"
   ]
  },
  {
   "cell_type": "code",
   "execution_count": null,
   "metadata": {
    "ExecuteTime": {
     "end_time": "2020-03-01T23:38:41.014157Z",
     "start_time": "2020-03-01T23:38:40.997135Z"
    }
   },
   "outputs": [],
   "source": []
  },
  {
   "cell_type": "code",
   "execution_count": 5,
   "metadata": {
    "ExecuteTime": {
     "end_time": "2020-03-03T15:21:32.799676Z",
     "start_time": "2020-03-03T15:21:27.778358Z"
    }
   },
   "outputs": [
    {
     "data": {
      "text/plain": [
       "(None, None)"
      ]
     },
     "execution_count": 5,
     "metadata": {},
     "output_type": "execute_result"
    }
   ],
   "source": [
    "run = True\n",
    "lock = threading.Lock()\n",
    "\n",
    "t1 = threading.Thread(target=measure.measure_muscle,)\n",
    "t2 = threading.Thread(target=measure.measure_mouse,)\n",
    "\n",
    "\n",
    "t1.start(), t2.start()\n",
    "\n",
    "\n",
    "time.sleep(5)\n",
    "\n",
    "run = False\n",
    "\n",
    "t1.join(), t2.join()\n"
   ]
  },
  {
   "cell_type": "code",
   "execution_count": 6,
   "metadata": {
    "ExecuteTime": {
     "end_time": "2020-03-03T15:21:33.523129Z",
     "start_time": "2020-03-03T15:21:32.799676Z"
    }
   },
   "outputs": [],
   "source": [
    "muscle_data = [BitArray(val).bin for val in muscle_data]"
   ]
  },
  {
   "cell_type": "code",
   "execution_count": 7,
   "metadata": {
    "ExecuteTime": {
     "end_time": "2020-03-03T15:21:33.530948Z",
     "start_time": "2020-03-03T15:21:33.523129Z"
    }
   },
   "outputs": [
    {
     "data": {
      "text/plain": [
       "(255584, 33979)"
      ]
     },
     "execution_count": 7,
     "metadata": {},
     "output_type": "execute_result"
    }
   ],
   "source": [
    "len(mouse_data), len(muscle_data)"
   ]
  },
  {
   "cell_type": "code",
   "execution_count": 8,
   "metadata": {
    "ExecuteTime": {
     "end_time": "2020-03-03T15:21:36.221312Z",
     "start_time": "2020-03-03T15:21:33.534977Z"
    }
   },
   "outputs": [],
   "source": [
    "mouse = pd.DataFrame({'mouse_pos':mouse_data, 'mouse_time':mouse_times})\n",
    "muscle = pd.DataFrame({'muscle_data':muscle_data, 'muscle_time':muscle_times})"
   ]
  },
  {
   "cell_type": "code",
   "execution_count": 9,
   "metadata": {
    "ExecuteTime": {
     "end_time": "2020-03-03T15:21:36.237279Z",
     "start_time": "2020-03-03T15:21:36.225279Z"
    }
   },
   "outputs": [],
   "source": [
    "count = 0\n",
    "for val in muscle['muscle_data']:\n",
    "   \n",
    "    if int(val[0]):\n",
    "        break\n",
    "    else:\n",
    "        pass\n",
    "    count += 1\n",
    "muscle = muscle[count:].reset_index(drop=True)"
   ]
  },
  {
   "cell_type": "code",
   "execution_count": 10,
   "metadata": {
    "ExecuteTime": {
     "end_time": "2020-03-03T15:21:37.416338Z",
     "start_time": "2020-03-03T15:21:36.237279Z"
    }
   },
   "outputs": [],
   "source": [
    "frames = []\n",
    "time_ranges = []\n",
    "for i, val in enumerate(muscle['muscle_data']):\n",
    "    if bool(int(val[0])):\n",
    "        frames.append(muscle['muscle_data'][i:i+num_channel*2])\n",
    "        try:\n",
    "            time_ranges.append([muscle['muscle_time'][i], muscle['muscle_time'][i + num_channel * 2]])\n",
    "        except:\n",
    "            time_ranges.append(None)\n",
    "    else:\n",
    "        pass"
   ]
  },
  {
   "cell_type": "code",
   "execution_count": 11,
   "metadata": {
    "ExecuteTime": {
     "end_time": "2020-03-03T15:21:37.494234Z",
     "start_time": "2020-03-03T15:21:37.416338Z"
    }
   },
   "outputs": [],
   "source": [
    "frames = [list(val) for val in frames]"
   ]
  },
  {
   "cell_type": "code",
   "execution_count": 12,
   "metadata": {
    "ExecuteTime": {
     "end_time": "2020-03-03T15:21:37.502237Z",
     "start_time": "2020-03-03T15:21:37.494234Z"
    }
   },
   "outputs": [],
   "source": [
    "frames = frames[1:]\n",
    "time_ranges = time_ranges[1:]"
   ]
  },
  {
   "cell_type": "code",
   "execution_count": 13,
   "metadata": {
    "ExecuteTime": {
     "end_time": "2020-03-03T15:21:37.526231Z",
     "start_time": "2020-03-03T15:21:37.502237Z"
    }
   },
   "outputs": [],
   "source": [
    "muscle = pd.DataFrame({'muscle_data':frames, 'muscle_time_ranges':time_ranges})"
   ]
  },
  {
   "cell_type": "code",
   "execution_count": 14,
   "metadata": {
    "ExecuteTime": {
     "end_time": "2020-03-03T15:21:37.566245Z",
     "start_time": "2020-03-03T15:21:37.530244Z"
    }
   },
   "outputs": [
    {
     "data": {
      "text/html": [
       "<div>\n",
       "<style scoped>\n",
       "    .dataframe tbody tr th:only-of-type {\n",
       "        vertical-align: middle;\n",
       "    }\n",
       "\n",
       "    .dataframe tbody tr th {\n",
       "        vertical-align: top;\n",
       "    }\n",
       "\n",
       "    .dataframe thead th {\n",
       "        text-align: right;\n",
       "    }\n",
       "</style>\n",
       "<table border=\"1\" class=\"dataframe\">\n",
       "  <thead>\n",
       "    <tr style=\"text-align: right;\">\n",
       "      <th></th>\n",
       "      <th>muscle_data</th>\n",
       "      <th>muscle_time_ranges</th>\n",
       "    </tr>\n",
       "  </thead>\n",
       "  <tbody>\n",
       "    <tr>\n",
       "      <th>0</th>\n",
       "      <td>[10000001, 01111001, 00000010, 00110110]</td>\n",
       "      <td>[1583248889.7649817, 1583248889.7649817]</td>\n",
       "    </tr>\n",
       "    <tr>\n",
       "      <th>1</th>\n",
       "      <td>[10000000, 01001101, 00000010, 00110101]</td>\n",
       "      <td>[1583248889.7649817, 1583248889.7649817]</td>\n",
       "    </tr>\n",
       "    <tr>\n",
       "      <th>2</th>\n",
       "      <td>[10000000, 01001101, 00000010, 00110100]</td>\n",
       "      <td>[1583248889.7649817, 1583248889.7689776]</td>\n",
       "    </tr>\n",
       "    <tr>\n",
       "      <th>3</th>\n",
       "      <td>[10000000, 01001101, 00000010, 00110100]</td>\n",
       "      <td>[1583248889.7689776, 1583248889.7689776]</td>\n",
       "    </tr>\n",
       "    <tr>\n",
       "      <th>4</th>\n",
       "      <td>[10000000, 01001100, 00000010, 00110011]</td>\n",
       "      <td>[1583248889.7689776, 1583248889.7689776]</td>\n",
       "    </tr>\n",
       "  </tbody>\n",
       "</table>\n",
       "</div>"
      ],
      "text/plain": [
       "                                muscle_data  \\\n",
       "0  [10000001, 01111001, 00000010, 00110110]   \n",
       "1  [10000000, 01001101, 00000010, 00110101]   \n",
       "2  [10000000, 01001101, 00000010, 00110100]   \n",
       "3  [10000000, 01001101, 00000010, 00110100]   \n",
       "4  [10000000, 01001100, 00000010, 00110011]   \n",
       "\n",
       "                         muscle_time_ranges  \n",
       "0  [1583248889.7649817, 1583248889.7649817]  \n",
       "1  [1583248889.7649817, 1583248889.7649817]  \n",
       "2  [1583248889.7649817, 1583248889.7689776]  \n",
       "3  [1583248889.7689776, 1583248889.7689776]  \n",
       "4  [1583248889.7689776, 1583248889.7689776]  "
      ]
     },
     "metadata": {},
     "output_type": "display_data"
    },
    {
     "data": {
      "text/html": [
       "<div>\n",
       "<style scoped>\n",
       "    .dataframe tbody tr th:only-of-type {\n",
       "        vertical-align: middle;\n",
       "    }\n",
       "\n",
       "    .dataframe tbody tr th {\n",
       "        vertical-align: top;\n",
       "    }\n",
       "\n",
       "    .dataframe thead th {\n",
       "        text-align: right;\n",
       "    }\n",
       "</style>\n",
       "<table border=\"1\" class=\"dataframe\">\n",
       "  <thead>\n",
       "    <tr style=\"text-align: right;\">\n",
       "      <th></th>\n",
       "      <th>mouse_pos</th>\n",
       "      <th>mouse_time</th>\n",
       "    </tr>\n",
       "  </thead>\n",
       "  <tbody>\n",
       "    <tr>\n",
       "      <th>0</th>\n",
       "      <td>(869, 829)</td>\n",
       "      <td>1.583249e+09</td>\n",
       "    </tr>\n",
       "    <tr>\n",
       "      <th>1</th>\n",
       "      <td>(869, 829)</td>\n",
       "      <td>1.583249e+09</td>\n",
       "    </tr>\n",
       "    <tr>\n",
       "      <th>2</th>\n",
       "      <td>(869, 829)</td>\n",
       "      <td>1.583249e+09</td>\n",
       "    </tr>\n",
       "    <tr>\n",
       "      <th>3</th>\n",
       "      <td>(869, 829)</td>\n",
       "      <td>1.583249e+09</td>\n",
       "    </tr>\n",
       "    <tr>\n",
       "      <th>4</th>\n",
       "      <td>(869, 829)</td>\n",
       "      <td>1.583249e+09</td>\n",
       "    </tr>\n",
       "  </tbody>\n",
       "</table>\n",
       "</div>"
      ],
      "text/plain": [
       "    mouse_pos    mouse_time\n",
       "0  (869, 829)  1.583249e+09\n",
       "1  (869, 829)  1.583249e+09\n",
       "2  (869, 829)  1.583249e+09\n",
       "3  (869, 829)  1.583249e+09\n",
       "4  (869, 829)  1.583249e+09"
      ]
     },
     "execution_count": 14,
     "metadata": {},
     "output_type": "execute_result"
    }
   ],
   "source": [
    "display(muscle.head())\n",
    "mouse.head()"
   ]
  },
  {
   "cell_type": "code",
   "execution_count": 15,
   "metadata": {
    "ExecuteTime": {
     "end_time": "2020-03-03T15:22:30.830012Z",
     "start_time": "2020-03-03T15:21:37.566245Z"
    }
   },
   "outputs": [],
   "source": [
    "down_sampled_mouse = []\n",
    "\n",
    "for val in muscle['muscle_time_ranges']:\n",
    "    try:\n",
    "        down_sampled_mouse.append(list(mouse[mouse['mouse_time'] >= val[0]]['mouse_pos'])[0])\n",
    "    except:\n",
    "        down_sampled_mouse.append([None, None])\n"
   ]
  },
  {
   "cell_type": "code",
   "execution_count": 16,
   "metadata": {
    "ExecuteTime": {
     "end_time": "2020-03-03T15:22:30.839939Z",
     "start_time": "2020-03-03T15:22:30.830012Z"
    }
   },
   "outputs": [
    {
     "data": {
      "text/plain": [
       "8490"
      ]
     },
     "execution_count": 16,
     "metadata": {},
     "output_type": "execute_result"
    }
   ],
   "source": [
    "len(down_sampled_mouse)"
   ]
  },
  {
   "cell_type": "code",
   "execution_count": 17,
   "metadata": {
    "ExecuteTime": {
     "end_time": "2020-03-03T15:22:30.859982Z",
     "start_time": "2020-03-03T15:22:30.839939Z"
    }
   },
   "outputs": [],
   "source": [
    "df = muscle\n",
    "df['mouse_pos'] = down_sampled_mouse"
   ]
  },
  {
   "cell_type": "code",
   "execution_count": 18,
   "metadata": {
    "ExecuteTime": {
     "end_time": "2020-03-03T15:22:30.892092Z",
     "start_time": "2020-03-03T15:22:30.859982Z"
    }
   },
   "outputs": [],
   "source": [
    "df['x_pos'] = ([val[0] for val in df['mouse_pos']])\n",
    "df['y_pos'] = ([val[1] for val in df['mouse_pos']])\n",
    "\n",
    "    \n",
    "df.drop(columns = 'mouse_pos', inplace = True)\n"
   ]
  },
  {
   "cell_type": "code",
   "execution_count": 19,
   "metadata": {
    "ExecuteTime": {
     "end_time": "2020-03-03T15:22:30.926758Z",
     "start_time": "2020-03-03T15:22:30.892092Z"
    }
   },
   "outputs": [],
   "source": [
    "df.drop(columns='muscle_time_ranges', inplace=True)\n",
    "\n",
    "df['channel_1'] = [val[:2] for val in df['muscle_data']]\n",
    "df['channel_2'] = [val[2:] for val in df['muscle_data']]\n",
    "\n"
   ]
  },
  {
   "cell_type": "code",
   "execution_count": 20,
   "metadata": {
    "ExecuteTime": {
     "end_time": "2020-03-03T15:22:30.946756Z",
     "start_time": "2020-03-03T15:22:30.926758Z"
    }
   },
   "outputs": [],
   "source": [
    "df.drop(columns='muscle_data', inplace=True)"
   ]
  },
  {
   "cell_type": "code",
   "execution_count": 21,
   "metadata": {
    "ExecuteTime": {
     "end_time": "2020-03-03T15:22:30.976372Z",
     "start_time": "2020-03-03T15:22:30.950753Z"
    }
   },
   "outputs": [],
   "source": [
    "df.dropna(inplace=True)"
   ]
  },
  {
   "cell_type": "code",
   "execution_count": 22,
   "metadata": {
    "ExecuteTime": {
     "end_time": "2020-03-03T15:22:30.985598Z",
     "start_time": "2020-03-03T15:22:30.977568Z"
    }
   },
   "outputs": [],
   "source": [
    "def raw_to_num(channel, is_first):\n",
    "    if is_first:\n",
    "        \n",
    "        channel[0] = '0' + channel[0][1:]\n",
    "  \n",
    "    channel = channel[0] + channel[1]\n",
    "    \n",
    "    channel = int(channel, 2)\n",
    "    \n",
    "    return(channel)"
   ]
  },
  {
   "cell_type": "code",
   "execution_count": 23,
   "metadata": {
    "ExecuteTime": {
     "end_time": "2020-03-03T15:22:31.029575Z",
     "start_time": "2020-03-03T15:22:30.993594Z"
    }
   },
   "outputs": [],
   "source": [
    "df['channel_1'] = [raw_to_num(val, True) for val in df['channel_1']]\n",
    "df['channel_2'] = [raw_to_num(val, False) for val in df['channel_2']]"
   ]
  },
  {
   "cell_type": "code",
   "execution_count": 24,
   "metadata": {
    "ExecuteTime": {
     "end_time": "2020-03-03T15:22:31.057575Z",
     "start_time": "2020-03-03T15:22:31.029575Z"
    }
   },
   "outputs": [
    {
     "data": {
      "text/html": [
       "<div>\n",
       "<style scoped>\n",
       "    .dataframe tbody tr th:only-of-type {\n",
       "        vertical-align: middle;\n",
       "    }\n",
       "\n",
       "    .dataframe tbody tr th {\n",
       "        vertical-align: top;\n",
       "    }\n",
       "\n",
       "    .dataframe thead th {\n",
       "        text-align: right;\n",
       "    }\n",
       "</style>\n",
       "<table border=\"1\" class=\"dataframe\">\n",
       "  <thead>\n",
       "    <tr style=\"text-align: right;\">\n",
       "      <th></th>\n",
       "      <th>x_pos</th>\n",
       "      <th>y_pos</th>\n",
       "      <th>channel_1</th>\n",
       "      <th>channel_2</th>\n",
       "    </tr>\n",
       "  </thead>\n",
       "  <tbody>\n",
       "    <tr>\n",
       "      <th>0</th>\n",
       "      <td>2588.0</td>\n",
       "      <td>593.0</td>\n",
       "      <td>377</td>\n",
       "      <td>566</td>\n",
       "    </tr>\n",
       "    <tr>\n",
       "      <th>1</th>\n",
       "      <td>2588.0</td>\n",
       "      <td>593.0</td>\n",
       "      <td>77</td>\n",
       "      <td>565</td>\n",
       "    </tr>\n",
       "    <tr>\n",
       "      <th>2</th>\n",
       "      <td>2588.0</td>\n",
       "      <td>593.0</td>\n",
       "      <td>77</td>\n",
       "      <td>564</td>\n",
       "    </tr>\n",
       "    <tr>\n",
       "      <th>3</th>\n",
       "      <td>2584.0</td>\n",
       "      <td>583.0</td>\n",
       "      <td>77</td>\n",
       "      <td>564</td>\n",
       "    </tr>\n",
       "    <tr>\n",
       "      <th>4</th>\n",
       "      <td>2584.0</td>\n",
       "      <td>583.0</td>\n",
       "      <td>76</td>\n",
       "      <td>563</td>\n",
       "    </tr>\n",
       "    <tr>\n",
       "      <th>...</th>\n",
       "      <td>...</td>\n",
       "      <td>...</td>\n",
       "      <td>...</td>\n",
       "      <td>...</td>\n",
       "    </tr>\n",
       "    <tr>\n",
       "      <th>8484</th>\n",
       "      <td>143.0</td>\n",
       "      <td>1245.0</td>\n",
       "      <td>34</td>\n",
       "      <td>283</td>\n",
       "    </tr>\n",
       "    <tr>\n",
       "      <th>8485</th>\n",
       "      <td>143.0</td>\n",
       "      <td>1245.0</td>\n",
       "      <td>34</td>\n",
       "      <td>283</td>\n",
       "    </tr>\n",
       "    <tr>\n",
       "      <th>8486</th>\n",
       "      <td>143.0</td>\n",
       "      <td>1245.0</td>\n",
       "      <td>34</td>\n",
       "      <td>283</td>\n",
       "    </tr>\n",
       "    <tr>\n",
       "      <th>8487</th>\n",
       "      <td>143.0</td>\n",
       "      <td>1245.0</td>\n",
       "      <td>34</td>\n",
       "      <td>282</td>\n",
       "    </tr>\n",
       "    <tr>\n",
       "      <th>8488</th>\n",
       "      <td>143.0</td>\n",
       "      <td>1245.0</td>\n",
       "      <td>34</td>\n",
       "      <td>282</td>\n",
       "    </tr>\n",
       "  </tbody>\n",
       "</table>\n",
       "<p>8489 rows × 4 columns</p>\n",
       "</div>"
      ],
      "text/plain": [
       "       x_pos   y_pos  channel_1  channel_2\n",
       "0     2588.0   593.0        377        566\n",
       "1     2588.0   593.0         77        565\n",
       "2     2588.0   593.0         77        564\n",
       "3     2584.0   583.0         77        564\n",
       "4     2584.0   583.0         76        563\n",
       "...      ...     ...        ...        ...\n",
       "8484   143.0  1245.0         34        283\n",
       "8485   143.0  1245.0         34        283\n",
       "8486   143.0  1245.0         34        283\n",
       "8487   143.0  1245.0         34        282\n",
       "8488   143.0  1245.0         34        282\n",
       "\n",
       "[8489 rows x 4 columns]"
      ]
     },
     "execution_count": 24,
     "metadata": {},
     "output_type": "execute_result"
    }
   ],
   "source": [
    "df"
   ]
  },
  {
   "cell_type": "code",
   "execution_count": 25,
   "metadata": {
    "ExecuteTime": {
     "end_time": "2020-03-03T15:22:31.108447Z",
     "start_time": "2020-03-03T15:22:31.057575Z"
    }
   },
   "outputs": [],
   "source": [
    "df.to_csv('data/raw_recording.csv', index=False)"
   ]
  }
 ],
 "metadata": {
  "kernelspec": {
   "display_name": "Python 3",
   "language": "python",
   "name": "python3"
  },
  "language_info": {
   "codemirror_mode": {
    "name": "ipython",
    "version": 3
   },
   "file_extension": ".py",
   "mimetype": "text/x-python",
   "name": "python",
   "nbconvert_exporter": "python",
   "pygments_lexer": "ipython3",
   "version": "3.7.6"
  }
 },
 "nbformat": 4,
 "nbformat_minor": 4
}
