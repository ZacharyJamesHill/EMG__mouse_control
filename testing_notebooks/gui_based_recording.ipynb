{
 "cells": [
  {
   "cell_type": "code",
   "execution_count": 1,
   "metadata": {
    "ExecuteTime": {
     "end_time": "2020-02-25T15:32:14.778692Z",
     "start_time": "2020-02-25T15:32:14.159704Z"
    }
   },
   "outputs": [],
   "source": [
    "import pyautogui\n",
    "import time\n",
    "import numpy as np\n",
    "import pandas as pd\n",
    "from pynput import mouse\n",
    "import os\n",
    "import shutil"
   ]
  },
  {
   "cell_type": "code",
   "execution_count": 2,
   "metadata": {
    "ExecuteTime": {
     "end_time": "2020-02-25T15:32:14.787704Z",
     "start_time": "2020-02-25T15:32:14.781717Z"
    }
   },
   "outputs": [],
   "source": [
    "def on_click(x, y, button, pressed):\n",
    "    if pressed:\n",
    "        listener.stop()\n",
    "  \n",
    "\n",
    "positions = []\n",
    "\n",
    "times = []"
   ]
  },
  {
   "cell_type": "code",
   "execution_count": 3,
   "metadata": {
    "ExecuteTime": {
     "end_time": "2020-02-25T15:32:21.894696Z",
     "start_time": "2020-02-25T15:32:14.792694Z"
    }
   },
   "outputs": [],
   "source": [
    "with mouse.Listener(on_click=on_click) as listener:\n",
    "    \n",
    "    clicked = True\n",
    "\n",
    "    \n",
    "        \n",
    "    while clicked == True:\n",
    "        clicked = listener.isAlive()\n",
    "    listener.join()\n",
    "start = time.time()"
   ]
  },
  {
   "cell_type": "code",
   "execution_count": 4,
   "metadata": {
    "ExecuteTime": {
     "end_time": "2020-02-25T15:32:35.686758Z",
     "start_time": "2020-02-25T15:32:21.898746Z"
    }
   },
   "outputs": [],
   "source": [
    "\n",
    "\n",
    "with mouse.Listener(on_click=on_click) as listener:\n",
    "    \n",
    "    clicked = True\n",
    "\n",
    "    while clicked == True:\n",
    "\n",
    "        positions.append(pyautogui.position())\n",
    "\n",
    "        times.append(time.time())\n",
    "\n",
    "        clicked = listener.isAlive()\n",
    "    \n",
    "    listener.join()\n",
    "\n",
    "end = time.time()"
   ]
  },
  {
   "cell_type": "code",
   "execution_count": 5,
   "metadata": {
    "ExecuteTime": {
     "end_time": "2020-02-25T15:33:45.178414Z",
     "start_time": "2020-02-25T15:32:35.688694Z"
    }
   },
   "outputs": [],
   "source": [
    "record = pd.DataFrame(data=[positions, times]).T\n",
    "\n",
    "record.rename(columns={0:'position', 1:'time'}, inplace=True)\n",
    "\n",
    "record['position'] = record['position'].map(tuple)\n",
    "\n",
    "record['position_x'] = [val[0] for val in record['position']]\n",
    "record['position_y'] = [val[1] for val in record['position']]\n",
    "\n",
    "record['start'] = start\n",
    "record['end'] = end\n",
    "\n",
    "record.drop(columns='position', inplace=True)"
   ]
  },
  {
   "cell_type": "code",
   "execution_count": 6,
   "metadata": {
    "ExecuteTime": {
     "end_time": "2020-02-25T15:33:50.992461Z",
     "start_time": "2020-02-25T15:33:45.181396Z"
    }
   },
   "outputs": [],
   "source": [
    "record.to_csv('data/mouse_recording.csv', index=False)"
   ]
  },
  {
   "cell_type": "code",
   "execution_count": 7,
   "metadata": {
    "ExecuteTime": {
     "end_time": "2020-02-25T15:33:51.007448Z",
     "start_time": "2020-02-25T15:33:50.996464Z"
    }
   },
   "outputs": [],
   "source": [
    "for name in os.listdir('C:\\\\Users\\\\Zachary\\\\Documents\\\\BYB'):\n",
    "\n",
    "    shutil.move(f\"C:\\\\Users\\\\Zachary\\\\Documents\\\\BYB\\\\{name}\", 'data/muscle_recordings/')"
   ]
  }
 ],
 "metadata": {
  "kernelspec": {
   "display_name": "Python 3",
   "language": "python",
   "name": "python3"
  },
  "language_info": {
   "codemirror_mode": {
    "name": "ipython",
    "version": 3
   },
   "file_extension": ".py",
   "mimetype": "text/x-python",
   "name": "python",
   "nbconvert_exporter": "python",
   "pygments_lexer": "ipython3",
   "version": "3.7.6"
  }
 },
 "nbformat": 4,
 "nbformat_minor": 4
}
