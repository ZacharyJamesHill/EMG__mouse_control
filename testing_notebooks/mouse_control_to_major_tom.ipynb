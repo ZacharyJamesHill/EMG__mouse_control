{
 "cells": [
  {
   "cell_type": "code",
   "execution_count": 3,
   "metadata": {
    "ExecuteTime": {
     "end_time": "2020-02-18T18:11:04.733832Z",
     "start_time": "2020-02-18T18:11:04.578846Z"
    }
   },
   "outputs": [],
   "source": [
    "import pyautogui \n",
    "import time"
   ]
  },
  {
   "cell_type": "code",
   "execution_count": 56,
   "metadata": {
    "ExecuteTime": {
     "end_time": "2020-02-18T18:21:40.845152Z",
     "start_time": "2020-02-18T18:21:40.839136Z"
    }
   },
   "outputs": [
    {
     "data": {
      "text/plain": [
       "Size(width=3840, height=2160)"
      ]
     },
     "execution_count": 56,
     "metadata": {},
     "output_type": "execute_result"
    }
   ],
   "source": [
    "pyautogui.size()"
   ]
  },
  {
   "cell_type": "code",
   "execution_count": 150,
   "metadata": {
    "ExecuteTime": {
     "end_time": "2020-02-18T18:36:56.954908Z",
     "start_time": "2020-02-18T18:36:56.944931Z"
    }
   },
   "outputs": [],
   "source": [
    "postions = []\n",
    "for i in range(200):\n",
    "    postions.append(pyautogui.position())\n",
    "\n"
   ]
  },
  {
   "cell_type": "code",
   "execution_count": 154,
   "metadata": {
    "ExecuteTime": {
     "end_time": "2020-02-18T18:37:49.252326Z",
     "start_time": "2020-02-18T18:37:49.246327Z"
    }
   },
   "outputs": [
    {
     "data": {
      "text/plain": [
       "[2113, 926]"
      ]
     },
     "execution_count": 154,
     "metadata": {},
     "output_type": "execute_result"
    }
   ],
   "source": [
    "postions = [list(val) for val in postions]\n"
   ]
  },
  {
   "cell_type": "code",
   "execution_count": 75,
   "metadata": {
    "ExecuteTime": {
     "end_time": "2020-02-18T18:27:29.320012Z",
     "start_time": "2020-02-18T18:27:29.215045Z"
    }
   },
   "outputs": [],
   "source": [
    "pyautogui.moveTo(100, 100)"
   ]
  },
  {
   "cell_type": "code",
   "execution_count": 18,
   "metadata": {
    "ExecuteTime": {
     "end_time": "2020-02-06T17:20:09.623074Z",
     "start_time": "2020-02-06T17:20:04.320219Z"
    }
   },
   "outputs": [],
   "source": [
    "start = time.time()\n",
    "time_elapsed = 0\n",
    "\n",
    "while time_elapsed < 5:\n",
    "    pyautogui.moveTo(1500,1000, duration=.2)\n",
    "    pyautogui.moveTo(2240,1000, duration=.2)\n",
    "    pyautogui.moveTo(1920,1740, duration=.2)\n",
    "    current_time = time.time()\n",
    "    time_elapsed = current_time - start\n"
   ]
  },
  {
   "cell_type": "code",
   "execution_count": 25,
   "metadata": {
    "ExecuteTime": {
     "end_time": "2020-02-06T17:24:43.977356Z",
     "start_time": "2020-02-06T17:24:42.757658Z"
    }
   },
   "outputs": [],
   "source": [
    "pyautogui.typewrite(\"hello world\", interval=.1)"
   ]
  },
  {
   "cell_type": "code",
   "execution_count": 27,
   "metadata": {
    "ExecuteTime": {
     "end_time": "2020-02-06T17:26:10.416268Z",
     "start_time": "2020-02-06T17:26:10.412254Z"
    }
   },
   "outputs": [],
   "source": [
    "# HEllo world"
   ]
  },
  {
   "cell_type": "code",
   "execution_count": 112,
   "metadata": {
    "ExecuteTime": {
     "end_time": "2020-02-06T17:31:22.534530Z",
     "start_time": "2020-02-06T17:31:22.430794Z"
    }
   },
   "outputs": [],
   "source": [
    "pyautogui.moveRel(100,-100)"
   ]
  },
  {
   "cell_type": "code",
   "execution_count": 158,
   "metadata": {
    "ExecuteTime": {
     "end_time": "2020-02-18T19:49:19.457071Z",
     "start_time": "2020-02-18T19:49:14.163203Z"
    }
   },
   "outputs": [],
   "source": [
    "# time.sleep(5)\n",
    "start = time.time()\n",
    "time_elapsed = 0\n",
    "\n",
    "while time_elapsed < 5:\n",
    "    pyautogui.moveRel(400,800, duration=.2)\n",
    "    pyautogui.moveRel(400,-800, duration=.2)\n",
    "    pyautogui.moveRel(-800,0, duration=.2)\n",
    "    current_time = time.time()\n",
    "    time_elapsed = current_time - start\n"
   ]
  },
  {
   "cell_type": "code",
   "execution_count": null,
   "metadata": {},
   "outputs": [],
   "source": []
  }
 ],
 "metadata": {
  "kernelspec": {
   "display_name": "Python 3",
   "language": "python",
   "name": "python3"
  },
  "language_info": {
   "codemirror_mode": {
    "name": "ipython",
    "version": 3
   },
   "file_extension": ".py",
   "mimetype": "text/x-python",
   "name": "python",
   "nbconvert_exporter": "python",
   "pygments_lexer": "ipython3",
   "version": "3.7.6"
  }
 },
 "nbformat": 4,
 "nbformat_minor": 2
}
